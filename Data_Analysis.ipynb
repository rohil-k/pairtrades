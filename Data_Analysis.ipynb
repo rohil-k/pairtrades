{
 "cells": [
  {
   "cell_type": "code",
   "execution_count": null,
   "metadata": {},
   "outputs": [],
   "source": [
    "import pandas as pd\n",
    "df = pd.DataFrame()\n",
    "import requests\n",
    "from io import StringIO\n",
    "from selenium import webdriver\n",
    "from selenium.webdriver.chrome.service import Service\n",
    "from bs4 import BeautifulSoup\n",
    "import finnhub\n",
    "import time"
   ]
  },
  {
   "cell_type": "code",
   "execution_count": null,
   "metadata": {},
   "outputs": [],
   "source": [
    "finnhub_client = finnhub.Client(api_key='ccpn23aad3idf7jqh720ccpn23aad3idf7jqh72g')\n",
    "\n",
    "def get_weekly_data(symbol):\n",
    "    nowunix = int(time.time())\n",
    "    thenunix = nowunix - 31536000\n",
    "    res = finnhub_client.stock_candles(symbol, 'D', thenunix, nowunix)\n",
    "    df = pd.DataFrame(res)\n",
    "    for i in range(3):\n",
    "        del df[df.columns.values[-1]]\n",
    "    return df"
   ]
  },
  {
   "cell_type": "code",
   "execution_count": 2,
   "metadata": {},
   "outputs": [],
   "source": [
    "TestList = ['JNJ','LLY','ABBV','PFE','MRK','BMY','CVS','AMGN','GILD','VRTX','REGN','ZTS','MRNA','BIIB','BAX','WBA','SGEN', 'ALNY', 'WST', 'LN', 'CTLT']"
   ]
  },
  {
   "cell_type": "code",
   "execution_count": null,
   "metadata": {},
   "outputs": [],
   "source": []
  }
 ],
 "metadata": {
  "kernelspec": {
   "display_name": "Python 3",
   "language": "python",
   "name": "python3"
  },
  "language_info": {
   "codemirror_mode": {
    "name": "ipython",
    "version": 3
   },
   "file_extension": ".py",
   "mimetype": "text/x-python",
   "name": "python",
   "nbconvert_exporter": "python",
   "pygments_lexer": "ipython3",
   "version": "3.8.5"
  }
 },
 "nbformat": 4,
 "nbformat_minor": 4
}
