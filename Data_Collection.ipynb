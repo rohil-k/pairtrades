{
 "cells": [
  {
   "cell_type": "code",
   "execution_count": 2,
   "metadata": {},
   "outputs": [],
   "source": [
    "import pandas as pd\n",
    "df = pd.DataFrame()\n",
    "import requests\n",
    "from io import StringIO\n",
    "from selenium import webdriver\n",
    "from selenium.webdriver.chrome.service import Service\n",
    "from bs4 import BeautifulSoup\n",
    "import finnhub\n",
    "import time"
   ]
  },
  {
   "cell_type": "code",
   "execution_count": 3,
   "metadata": {},
   "outputs": [],
   "source": [
    "finnhub_client = finnhub.Client(api_key='ccpn23aad3idf7jqh720ccpn23aad3idf7jqh72g')\n",
    "\n",
    "def get_weekly_data(symbol):\n",
    "    nowunix = int(time.time())\n",
    "    thenunix = nowunix - 31536000\n",
    "    res = finnhub_client.stock_candles(symbol, 'D', thenunix, nowunix)\n",
    "    df = pd.DataFrame(res)\n",
    "    for i in range(3):\n",
    "        del df[df.columns.values[-1]]\n",
    "    return df"
   ]
  },
  {
   "cell_type": "code",
   "execution_count": 5,
   "metadata": {},
   "outputs": [],
   "source": [
    "s=Service(\"/Users/rohil/Desktop/PythonPractice/chromedriver\")\n",
    "driver = webdriver.Chrome(service=s)\n",
    "\n",
    "Names=[] #List to store name of the companies\n",
    "Tickers=[] #List to store tickers of the stocks\n",
    "WeeklyData = [] #List to store weekly dataframes\n",
    "driver.get(\"https://companiesmarketcap.com/\")\n",
    "\n",
    "content = driver.page_source\n",
    "soup = BeautifulSoup(content)\n"
   ]
  },
  {
   "cell_type": "code",
   "execution_count": 6,
   "metadata": {},
   "outputs": [],
   "source": [
    "flags = []\n",
    "Tickers = []\n",
    "Ticks = []\n",
    "def findtickers():\n",
    "    for tag in soup.find_all(\"td\", {'class':None}):\n",
    "        flags.append(str(tag.text))\n",
    "    for tag in soup.find_all(\"div\", {'class':'company-code'}):\n",
    "        Tickers.append(str(tag.text))\n",
    "    i = 0\n",
    "    for i in range(len(flags)):\n",
    "        if \"USA\" in flags[i]:\n",
    "            Ticks.append(Tickers[i])\n",
    "def populateweeklydata():\n",
    "    findtickers()\n",
    "    for i in range(30):\n",
    "        getdata = Ticks[i]\n",
    "        WeeklyData.append(get_weekly_data(getdata))\n",
    "    \n",
    "populateweeklydata()"
   ]
  },
  {
   "cell_type": "code",
   "execution_count": null,
   "metadata": {},
   "outputs": [],
   "source": []
  },
  {
   "cell_type": "code",
   "execution_count": null,
   "metadata": {},
   "outputs": [],
   "source": []
  }
 ],
 "metadata": {
  "kernelspec": {
   "display_name": "Python 3",
   "language": "python",
   "name": "python3"
  },
  "language_info": {
   "codemirror_mode": {
    "name": "ipython",
    "version": 3
   },
   "file_extension": ".py",
   "mimetype": "text/x-python",
   "name": "python",
   "nbconvert_exporter": "python",
   "pygments_lexer": "ipython3",
   "version": "3.8.5"
  }
 },
 "nbformat": 4,
 "nbformat_minor": 4
}
